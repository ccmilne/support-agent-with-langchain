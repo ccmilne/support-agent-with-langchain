{
 "cells": [
  {
   "cell_type": "code",
   "execution_count": null,
   "metadata": {},
   "outputs": [],
   "source": [
    "import os\n",
    "import re\n",
    "\n",
    "#Context-specific\n",
    "from langchain.document_loaders import PyPDFLoader\n",
    "\n",
    "#Pipeline needs\n",
    "from langchain.text_splitter import CharacterTextSplitter\n",
    "from langchain.vectorstores import Chroma\n",
    "from langchain.chains import RetrievalQA, RetrievalQAWithSourcesChain\n",
    "from langchain.prompts import PromptTemplate\n",
    "from langchain.agents import initialize_agent, Tool\n",
    "\n",
    "#Environment-specific\n",
    "from langchain.embeddings import VertexAIEmbeddings\n",
    "from langchain.chat_models import ChatVertexAI\n",
    "\n",
    "# from google.cloud import aiplatform"
   ]
  },
  {
   "cell_type": "markdown",
   "metadata": {},
   "source": [
    "### Processing"
   ]
  },
  {
   "cell_type": "code",
   "execution_count": null,
   "metadata": {},
   "outputs": [],
   "source": [
    "llm = ChatVertexAI(temperature=0)\n",
    "embeddings = VertexAIEmbeddings()"
   ]
  },
  {
   "cell_type": "code",
   "execution_count": null,
   "metadata": {},
   "outputs": [],
   "source": [
    "run = True\n",
    "\n",
    "if run:\n",
    "\n",
    "    for file in os.listdir('data/pdfs/'):\n",
    "\n",
    "        new_name = re.sub(\" \", \"_\", file).lower()\n",
    "        loaded = PyPDFLoader(file)\n",
    "        splitter = CharacterTextSplitter(chunk_size=100, chunk_overlap=0)\n",
    "        docs = splitter.split_documents(loaded)\n",
    "        db = Chroma.from_documents(docs, embeddings, collection_name=new_name)\n",
    "        # print(db._collection_count())\n"
   ]
  },
  {
   "cell_type": "markdown",
   "metadata": {},
   "source": [
    "### Chain Implementation"
   ]
  },
  {
   "cell_type": "code",
   "execution_count": null,
   "metadata": {},
   "outputs": [],
   "source": [
    "support_template = \"\"\"As a Verizon customer service agent, your goal is to provide accurate and helpful information about Verizon products and telecommunications concepts.\n",
    "You should answer customer questions based on the context provided and avoid making up answers. Remember to provide relevant information and be as concise as possible\n",
    "\n",
    "Context: {context}\n",
    "Question: {question}\"\"\"\n",
    "\n",
    "SUPPORT_PROMPT = PromptTemplate(template=support_template, input_variables=[\"context\", \"question\"])"
   ]
  },
  {
   "cell_type": "code",
   "execution_count": null,
   "metadata": {},
   "outputs": [],
   "source": [
    "support_chain = RetrievalQA.from_chain_type(\n",
    "    llm=llm,\n",
    "    chain_type='stuff',\n",
    "    retriever=db.as_retriever(),\n",
    "    chain_type_kwargs={\"prompt\": SUPPORT_PROMPT}\n",
    ")"
   ]
  },
  {
   "cell_type": "code",
   "execution_count": null,
   "metadata": {},
   "outputs": [],
   "source": [
    "#Testing support chain:\n",
    "support_chain.run(\"What is 5G?\")"
   ]
  },
  {
   "cell_type": "code",
   "execution_count": null,
   "metadata": {},
   "outputs": [],
   "source": [
    "sales_template = \"\"\"As a Verizon sales representative, your goal is to sell Verizon products and services to customers.\n",
    "You should answer customer questions based on the context while continually reminding them of products or services offered by Verizon that might respond to their question. \n",
    "Remember to provide relevant information and be as concise as possible\n",
    "\n",
    "Context: {context}\n",
    "Question: {question}\"\"\"\n",
    "\n",
    "SALES_PROMPT = PromptTemplate(template=sales_template, input_variables=[\"context\", \"question\"])"
   ]
  },
  {
   "cell_type": "code",
   "execution_count": null,
   "metadata": {},
   "outputs": [],
   "source": [
    "sales_chain = RetrievalQA.from_chain_type(\n",
    "    llm=ChatVertexAI(temperature=0.7), #ramp up the creativity and schmooze\n",
    "    chain_type='stuff',\n",
    "    retriever=db.as_retriever(),\n",
    "    chain_type_kwargs={\"prompt\": SALES_PROMPT}\n",
    ")"
   ]
  },
  {
   "cell_type": "code",
   "execution_count": null,
   "metadata": {},
   "outputs": [],
   "source": [
    "#Testing sales chain:\n",
    "support_chain.run(\"What is the newest Verizon offering?\")"
   ]
  },
  {
   "cell_type": "markdown",
   "metadata": {},
   "source": [
    "### Agent Implementation"
   ]
  },
  {
   "cell_type": "code",
   "execution_count": null,
   "metadata": {},
   "outputs": [],
   "source": [
    "tools = [\n",
    "    Tool(\n",
    "        name = \"Support\",\n",
    "        func = support_chain.run,\n",
    "        description = \"\"\"Useful for when a customer is interested in learning more about Verizon products, services, or other concepts,\n",
    "                        needs help with understanding. Input should be a fully formed question\"\"\"\n",
    "    ),\n",
    "    Tool(\n",
    "        name = \"Sales\",\n",
    "        func = sales_chain.run,\n",
    "        description = \"\"\"Useful for when a customer indicates they are interested in a Verizon product or service, and that they are\n",
    "                        willing to buy. Input should be a fully formed question.\"\"\"\n",
    "    )\n",
    "]"
   ]
  },
  {
   "cell_type": "code",
   "execution_count": null,
   "metadata": {},
   "outputs": [],
   "source": [
    "agent = initialize_agent(tools, llm, agent=\"zero-shot-react-description\", verbose=True)"
   ]
  },
  {
   "cell_type": "code",
   "execution_count": null,
   "metadata": {},
   "outputs": [],
   "source": [
    "agent.run(\"What will the future of 5G look like for Verizon?\")"
   ]
  }
 ],
 "metadata": {
  "kernelspec": {
   "display_name": "base",
   "language": "python",
   "name": "python3"
  },
  "language_info": {
   "codemirror_mode": {
    "name": "ipython",
    "version": 3
   },
   "file_extension": ".py",
   "mimetype": "text/x-python",
   "name": "python",
   "nbconvert_exporter": "python",
   "pygments_lexer": "ipython3",
   "version": "3.9.0"
  },
  "orig_nbformat": 4
 },
 "nbformat": 4,
 "nbformat_minor": 2
}
